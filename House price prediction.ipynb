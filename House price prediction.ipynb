{
  "cells": [
    {
      "cell_type": "code",
      "source": [
        "# Import necessary libraries\n",
        "import numpy as np\n",
        "import pandas as pd\n",
        "from sklearn.ensemble import RandomForestRegressor\n",
        "from sklearn.model_selection import train_test_split\n",
        "from sklearn.metrics import mean_squared_error\n",
        "\n",
        "# Generate some random data\n",
        "np.random.seed(42)\n",
        "X = np.random.rand(100, 3) * 100  # Features like area, number of rooms, location\n",
        "y = 50 * X[:, 0] + 30 * X[:, 1] + 20 * X[:, 2] + np.random.normal(scale=100, size=100)  # Price estimation\n",
        "\n",
        "# Split data into training and testing sets\n",
        "X_train, X_test, y_train, y_test = train_test_split(X, y, test_size=0.2, random_state=42)\n",
        "\n",
        "# Train the Random Forest Regression model\n",
        "model = RandomForestRegressor(n_estimators=10, random_state=42)\n",
        "model.fit(X_train, y_train)\n",
        "\n",
        "# Make predictions on the test set\n",
        "predictions = model.predict(X_test)\n",
        "\n",
        "# Evaluate the prediction performance\n",
        "mse = mean_squared_error(y_test, predictions)\n",
        "print(\"Mean Squared Error:\", mse)\n",
        "\n",
        "# Function to predict house price based on user input\n",
        "def predict_house_price(area, rooms, location):\n",
        "    # Ensure inputs are valid numbers\n",
        "    try:\n",
        "        area = float(area)\n",
        "        rooms = float(rooms)\n",
        "        location = float(location)\n",
        "    except ValueError:\n",
        "        return \"Invalid input! Please enter numerical values for area, rooms, and location.\"\n",
        "\n",
        "    # Create feature array\n",
        "    input_features = np.array([[area, rooms, location]])\n",
        "\n",
        "    # Make prediction\n",
        "    prediction = model.predict(input_features)\n",
        "    return f\"Predicted House Price: {prediction[0]}\"\n",
        "\n",
        "# Example usage\n",
        "area = input(\"Enter the area of the house: \")\n",
        "rooms = input(\"Enter the number of rooms: \")\n",
        "location = input(\"Enter the location value: \")\n",
        "print(predict_house_price(area, rooms, location)),"
      ],
      "metadata": {
        "colab": {
          "base_uri": "https://localhost:8080/"
        },
        "id": "Sosnzo02OVrS",
        "outputId": "12a781af-594e-451a-e283-41cbacb39016"
      },
      "execution_count": 3,
      "outputs": [
        {
          "output_type": "stream",
          "name": "stdout",
          "text": [
            "Mean Squared Error: 356954.15334319725\n",
            "Enter the area of the house: 45\n",
            "Enter the number of rooms: 6\n",
            "Enter the location value: 689\n",
            "Predicted House Price: 3493.4772159288077\n"
          ]
        }
      ]
    }
  ],
  "metadata": {
    "colab": {
      "provenance": []
    },
    "kernelspec": {
      "display_name": "Python 3",
      "name": "python3"
    },
    "language_info": {
      "name": "python"
    }
  },
  "nbformat": 4,
  "nbformat_minor": 0
}